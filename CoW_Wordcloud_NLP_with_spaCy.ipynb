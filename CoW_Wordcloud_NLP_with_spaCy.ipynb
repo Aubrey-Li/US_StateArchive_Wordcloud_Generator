{
 "cells": [
  {
   "cell_type": "code",
   "execution_count": 152,
   "metadata": {},
   "outputs": [],
   "source": [
    "#libraries\n",
    "import spacy\n",
    "nlp = spacy.load('en')\n",
    "from wordcloud import WordCloud\n",
    "import matplotlib.pyplot as plt\n",
    "import requests\n",
    "from bs4 import BeautifulSoup\n",
    "import pandas as pd"
   ]
  },
  {
   "cell_type": "markdown",
   "metadata": {},
   "source": [
    "### Reading the text from 2001 Africa country report"
   ]
  },
  {
   "cell_type": "code",
   "execution_count": 153,
   "metadata": {},
   "outputs": [
    {
     "name": "stderr",
     "output_type": "stream",
     "text": [
      "DEBUG:urllib3.connectionpool:Starting new HTTPS connection (1): 2009-2017.state.gov:443\n",
      "DEBUG:urllib3.connectionpool:https://2009-2017.state.gov:443 \"GET /j/ct/rls/crt/2001/html/10236.htm HTTP/1.1\" 200 12578\n"
     ]
    }
   ],
   "source": [
    "url = 'https://2009-2017.state.gov/j/ct/rls/crt/2001/html/10236.htm'\n",
    "res = requests.get(url)\n",
    "html_page = res.content\n",
    "soup = BeautifulSoup(html_page, 'html.parser')\n",
    "text = soup.find_all(text=True)\n",
    "\n",
    "set([t.parent.name for t in text])\n",
    "\n",
    "output = ''\n",
    "blacklist = ['[document]','noscript','header','html','meta','head', 'input','script']\n",
    "\n",
    "for t in text:\n",
    "    if t.parent.name not in blacklist:\n",
    "        output += '{} '.format(t)\n",
    "        \n",
    "complete_text = (output)\n",
    "\n",
    "word_doc = nlp(complete_text)"
   ]
  },
  {
   "cell_type": "markdown",
   "metadata": {},
   "source": [
    "### Standardized Functions"
   ]
  },
  {
   "cell_type": "code",
   "execution_count": 154,
   "metadata": {},
   "outputs": [],
   "source": [
    "def scrape_text(url):\n",
    "    res = requests.get(url)\n",
    "    html_page = res.content\n",
    "    soup = BeautifulSoup(html_page, 'html.parser')\n",
    "    text = soup.find_all(text=True)\n",
    "\n",
    "    set([t.parent.name for t in text])\n",
    "\n",
    "    output = ''\n",
    "    blacklist = ['[document]','noscript','header','html','meta','head', 'input','script']\n",
    "\n",
    "    for t in text:\n",
    "        if t.parent.name not in blacklist:\n",
    "            output += '{} '.format(t)\n",
    "        \n",
    "    complete_text = (output)\n",
    "\n",
    "    return nlp(complete_text) "
   ]
  },
  {
   "cell_type": "markdown",
   "metadata": {},
   "source": [
    "#### Standard Processing:"
   ]
  },
  {
   "cell_type": "markdown",
   "metadata": {},
   "source": [
    "> - Lowercases the text\n",
    "> - Lemmatizes each token\n",
    "> - Removes punctuation symbols\n",
    "> - Removes stop words"
   ]
  },
  {
   "cell_type": "code",
   "execution_count": 155,
   "metadata": {},
   "outputs": [],
   "source": [
    "def is_token_allowed(token):\n",
    "    '''Only allow valid tokens which are not stop words and punctuation symbols.'''\n",
    "    if (not token or not token.string.strip() or token.is_stop or token.is_punct):\n",
    "        return False\n",
    "    return True\n",
    "\n",
    "def preprocess_token(token): # Reduce token to its lowercase lemma form\n",
    "    return token.lemma_.strip().lower()\n",
    "\n",
    "complete_filtered_tokens = [preprocess_token(token) \n",
    "                            for token in word_doc if is_token_allowed(token)]\n",
    "\n",
    "def convert_list_to_string(org_list, seperator=' '):\n",
    "    return seperator.join(org_list)\n",
    "\n",
    "# Convert list of strings to string (this is for Africa 2001 only)\n",
    "full_str = convert_list_to_string(complete_filtered_tokens)\n",
    "\n",
    "#str_to_tokens = list(map(str.split, complete_filtered_tokens)) (this is for Africa 2001 only)\n",
    "filtered_tokens = nlp(full_str)"
   ]
  },
  {
   "cell_type": "markdown",
   "metadata": {},
   "source": [
    "#### Sort out the Noun, Adj, and Verbs"
   ]
  },
  {
   "cell_type": "code",
   "execution_count": 180,
   "metadata": {},
   "outputs": [],
   "source": [
    "n = []\n",
    "adj = []\n",
    "verb = []\n",
    "\n",
    "def cat_words(filtered_words):\n",
    "    for token in filtered_words:\n",
    "        if token.pos_ == 'NOUN':\n",
    "            n.append(token)\n",
    "        if token.pos_ == 'ADJ':\n",
    "            adj.append(token)\n",
    "        if token.pos_ == \"VERB\":\n",
    "            verb.append(token)"
   ]
  },
  {
   "cell_type": "markdown",
   "metadata": {},
   "source": [
    "### 2001 South Asia country report"
   ]
  },
  {
   "cell_type": "code",
   "execution_count": 156,
   "metadata": {},
   "outputs": [
    {
     "name": "stderr",
     "output_type": "stream",
     "text": [
      "DEBUG:urllib3.connectionpool:Starting new HTTPS connection (1): 2009-2017.state.gov:443\n",
      "DEBUG:urllib3.connectionpool:https://2009-2017.state.gov:443 \"GET /j/ct/rls/crt/2001/html/10237.htm HTTP/1.1\" 200 16239\n"
     ]
    }
   ],
   "source": [
    "south_asia_2001_word = scrape_text(\"https://2009-2017.state.gov/j/ct/rls/crt/2001/html/10237.htm\")"
   ]
  },
  {
   "cell_type": "code",
   "execution_count": 157,
   "metadata": {},
   "outputs": [],
   "source": [
    "filtered_south_asian_2001 = nlp(convert_list_to_string([preprocess_token(token) for token in south_asia_2001_word if is_token_allowed(token)]))"
   ]
  },
  {
   "cell_type": "code",
   "execution_count": 159,
   "metadata": {},
   "outputs": [],
   "source": [
    "SA_2001_n = \"overview, skip, content, header, view, content, information, release, january, note, content, site, update, link, function, link, internet, site, construe, view, website, date, information, header, googleoff, dos, seal, department, state, diplomacy, action, video, twitter, facebook, flickr, youtube, instagram, google+, tumblr, blog, rss, subscribe, toggle, menu, secretary, kerry, remarks, photos, biography, mission, statement, qddr, organization, chart, budget, department, state, state, rules, info, collection, partner, state, officials, list, bureaus, offices, groups, biographies, performance, budgets, agency, reports, government, initiative, fear, act, inspector, hotline, embassies, posts, service, association, arms, control, security, security, democracy, rights, growth, energy, environment, management, affairs, diplomacy, affairs, policy, issues, corruption, climate, environment, counterterrorism, counter, cyber, issues, isil, democracy, rights, affairs, trade, policy, energy, food, security, health, diplomacy, nonproliferation, refugees, persons, women, issues, countries, regions, list, countries, areas, africa, sub, east, europe, eurasia, africa, hemisphere, america, caribbean, canada, organizations, press, briefings, press, schedule, secretary, kerry, media, engagement, rss, news, email, subscriptions, press, center, googleon, search, input, jump, section, breadcrumb, home, secretary, security, democracy, rights, bureau, counterterrorism, counter, extremism, releases, country, terrorism, patterns, terrorism, report, html, format, end, breadcrumb, overview, share, meta, start, patterns, terrorism, office, coordinator, counterterrorism, report, end, centerblock, position, principle, battle, terrorism, terrorism, form, manifestation, world, president, pervez, musharraf, follow, meeting, president, bush, washington, february, south, asia, point, terrorism, states, ally, world, region, organizations, fto, act, murder, kidnapping, destruction, december, attack, india, parliament, september, attack, attention, activity, battleground, war, terrorism, coalition, afghanistan, destroy, infrastructure, afghanistan, power, government, afghanistan, country, coalition, effort, terrorism, challenge, turn, support, action, time, threat, pose, region, sign, thinking, september, president, gen, change, policy, render, level, cooperation, support, war, terrorism, break, tie, regime, use, basis, country, operation, seal, border, afghanistan, escape, fugitive, work, states, detain, musharraf, step, extremist, detain, jaish, leader, maulana, masood, azhar, sri, lanka, indication, settlement, decade, conflict, sri, lankan, government, liberation, tigers, tamil, eelam, ltte, ltte, attack, airport, north, december, ltte, government, sri, lanka, establish, cease, fire, broker, norway, states, support, government, facilitation, effort, focus, help, settlement, conflict, possibility, change, ltte, organization, list, group, threat, afghanistan, year, ignore, community, activity, border, taliban, control, territory, target, lead, coalition, terrorism, quarter, world, north, america, europe, africa, southeast, training, ground, base, operation, activity, leader, base, afghanistan, bin, ladin, role, september, attack, york, washington, pennsylvania, role, embassy, bombing, kenya, tanzania, leadership, advantage, safehaven, afghanistan, recruit, manage, fundraise, activity, plan, operation, agitation, provoke, extremist, country, attack, interest, country, attack, states, september, attack, response, coalition, war, taliban, afghans, coalition, force, operation, taliban, fighter, country, sponsor, process, bonn, germany, afghans, faction, framework, help, conflict, reconciliation, peace, stability, text, bonn, agreement, afghanistan, authority, community, afghanistan, terrorism, turn, community, assistance, people, ravage, rule, taliban, power, regime, afghanistan, regime, world, regime, control, percent, country, war, alliance, country, nation, nations, government, taliban, control, afghanistan, hub, training, ground, transit, point, network, group, act, world, usama, bin, ladin, training, weapon, soldier, money, use, war, alliance, taliban, turn, facility, nations, security, council, sanction, taliban, december, failure, stop, training, support, turn, bin, ladin, face, justice, camp, afghanistan, sanction, oblige, member, state, freeze, asset, usama, bin, ladin, arm, embargo, office, staff, taliban, mission, travel, purpose, participation, peace, negotiation, reason, obligation, ban, export, chemical, production, heroin, ariana, airlines, flight, states, hold, attack, undertake, bin, ladin, control, territory, wake, september, attack, president, bush, hand, bin, ladin, share, fate, taliban, drive, power, week, operation, freedom, india, india, target, terrorism, year, response, september, attack, offer, support, area, address, threat, cabinet, approve, october, ordinance, grant, sweep, power, security, force, suppress, terrorism, group, government, organization, union, home, ministry, ministry, point, sort, government, mail, powder, lace, letter, discover, october, office, home, minister, ministry, security, force, installation, suicide, attack, october, air, force, base, kashmir, valley, security, posture, upgrade, scale, mobilization, forces, attack, december, india, parliament, security, problem, insurgency, kashmir, persist, india, october, person, injure, bomb, entrance, kashmir, assembly, building, srinagar, kashmiri, group, jaish, claim, responsibility, attack, december, group, attack, india, parliament, delhi, incident, result, death, security, personnel, india, blame, fto, e, tayyiba, jaish, attack, demand, government, deal, group, control, territory, india, face, violence, associate, movement, base, northeast, gunman, fire, group, police, center, kolkata, calcutta, wound, investigation, attack, citizen, injure, police, center, contract, guard, injure, assault, government, effort, states, terrorism, cooperation, law, enforcement, agency, india, counterterrorism, working, group, november, june, washington, delhi, contact, interagency, partner, government, group, cooperation, share, counterterrorism, goal, reconvene, washington, summer, nepal, supporter, coalition, terrorism, operation, onset, operation, freedom, access, airport, airspace, india, terrorism, maoist, revolutionaries—, base, terrorism, states, insurgency, control, district, presence, presence, district, government, police, address, increase, maoist, activity, element, army, deploy, minister, bahadur, power, july, pledge, resolve, conflict, peace, government, maoists, fire, hold, talk, deuba, announce, plan, reform, address, maoists, concern, maoists, talk, cease, fire, november, attack, government, state, emergency, mid-2001the, maoists, operation, attack, enterprise, prospect, negotiation, maoists, campaign, government, target, concern, number, attack, relief, organization, target, example, terrorist, burn, care, building, attack, town, february, attack, december, embassy, employee, murder, police, official, december, attack, suspect, bomb, coca, cola, factory, southwest, kathmandu, evening, bomb, damage, injury, device, coca, cola, plant, kathmandu, november, citizen, employ, coca, cola, plant, september, pledge, support, coalition, effort, war, terrorism, afford, states, level, cooperation, use, basis, country, work, states, detain, extremist, seal, border, february, states, counterterrorism, exchange, component, range, law, enforcement, working, group, november, asset, bank, december, president, pervez, musharraf, government, proposal, schools)—some, ground, extremist, mainstream, system, sweep, police, reform, immigration, control, system, finance, law, december, musharraf, authority, arrest, leader, lashkar, e, tayyiba, organizations, jamiat, ulema, islami, jui, party, tie, taliban, kashmiri, group, support, kashmiri, group, organizations, wane, september, question, policy, state, pledge, terrorism, sustain, daniel, pearl, daniel, pearl, reporter, wall, street, journal, bureau, year, kidnap, karachi, research, story, shoe, bomber, richard, reid, group, kidnapper, e, mail, message, accuse, pearl, spy, list, demand, week, daniel, pearl, president, bush, president, musharraf, condemn, state, concession, terrorist, law, enforcement, work, pearl, abductor, embassy, official, investigation, february, mr, pearl, murder, captor, police, karachi, arrest, case, sheik, sheik, year, prison, charge, citizen, citizen, hijacker, airlines, flight, route, india, force, plane, land, kandahar, afghanistan, exchange, person, demand, prison, sheik, masood, azhar, founder, jaish, states, organization, government, india, release, president, bush, americans, act, crime, deepen, resolve, states, america, world, agent, terror, department, state, call, murder, pearl, outrage, states, commit, perpetrator, crime, justice, murder, act, barbarism, mockery, danny, kidnapper, claim, believe, statement, peter, publisher, wall, street, journal, paul, steiger, newspaper, editor, claim, action, shame, patriot, daniel, pearl, wife, journalist, marianne, time, murder, month, child, murder, daniel, pearl, underscore, importance, concession, danger, journalist, world, nature, threat, vigilance, security, precaution, sri, lanka, sri, lanka, support, lead, action, afghanistan, september, attack, welcome, resolve, root, terrorism, october, government, sri, lanka, issue, statement, support, order, institution, bank, transaction, name, government, issue, freeze, order, asset, regulation, meet, requirement, unscr, take, measure, september, security, post, security, force, site, attack, accede, convention, plastic, weapon, terrorist, liberation, tigers, tamil, eelam, ltte, cease, fire, april, break, cease, fire, level, violence, government, police, target, ltte, scale, attack, airport, north, colombo, damage, aircraft, installation, ltte, attack, november, policeman, wound, november, ltte, member, assassination, opposition, politician, plan, december, election, confirm, case, ltte, group, target, citizen, business, sri, lanka, december, ltte, month, cease, fire, sri, lankan, government, reciprocate, cease, fire, party, renew, cease, fire, work, government, peace, process, side, cease, fire, accord, incident, violence, ltte, december, cease, fire, ltte, prisoner, capture, officer, ltte, hold, hostage, states, norway, facilitation, effort, settlement, conflict, agreement, discussion, sign, history, ltte, act, year, failure, renounce, terrorism, tool, states, ltte, organization, list, centerblock, end, prn, prn, end, section, highlights, googleoff, business, business, support, questions, office, partnerships, business, affairs, office, officers, service, posts, trade, policy, programs, defense, trade, business, utilization, recovery, reinvestment, act, service, contract, inventory, program, service, officer, service, officer, service, specialist, organizations, student, programs, work, america, education, exchanges, diplomacy, youth, issues, history, office, schools, exchange, visitor, program, fulbright, program, student, career, programs, youth, exchange, programs, diplomacy, center, intercountry, adoption, child, abduction, travel, passports, travel, information, emergency, services, intercountry, adoption, child, abduction, diem, rates, contact, faq, search, share, index, accessibility, statement, copyright, information, link, policy, foia, fear, act, privacy, policy, office, inspector, businessusa, house, usa.gov, embassy, office, website, management, bureau, affairs, site, information, state, department, link, internet, site, construe, view, privacy, policy, contain, note, document, document, format, pdf, adobe, acrobat, reader, view, download, adobe, acrobat, reader, googleon, department, state, information, visit\""
   ]
  },
  {
   "cell_type": "code",
   "execution_count": 160,
   "metadata": {},
   "outputs": [],
   "source": [
    "SA_2001_adj = \"south, asia, main, archive, online, january, archive, external, endorsement, current, /archive, senior, alphabetical, advisory, financial, open, general, american, foreign, international, civilian, human, economic, political, public, public, anti, violent, extremism, human, economic, arctic, sahara, asia, pacific, east, northern, middle, east, south, central, asia, western, latin, international, daily, public, international, foreign, civilian, human, violent, global, south, asia, global, meta, firm, international, central, direct, united, foreign, terrorist, significant, vicious, global, terrorist, afghanistan, military, military, objective, clear, terrorist, taliban, representative, asia, concrete, terrorist, clear, important, fresh, apparent, pakistan, musharraf, significant, unprecedented, pakistan, close, taliban, military, military, united, fugitive, important, domestic, mohammed, fragile, possible, peaceful, old, responsible, devastating, international, military, colombo, united, norwegian, positive, foreign, terrorist, terrorist, international, terrorist, afghan, military, islamic, extremist, middle, east, central, south, asia, afghanistan, terrorist, senior, usama, terrorist, new, terrorist, terrorist, terrorist, violent, anti, american, antidemocratic, horrendous, united, forceful, military, international, successful, military, remnant, tragic, national, last, interim, international, january, international, taliban, taliban, repressive, abusive, territory, northern, legitimate, major, terrorist, individual, international, militant, terrorist, terrorist, taliban, northern, safehaven, logistical, united, international, terrorist, usama, close, terrorist, close, taliban, senior, taliban, official, humanitarian, religious, close, afghan, humanitarian, united, taliban, official, responsible, terrorist, taliban, associate, military, logistic, internal, indian, indian, terrorist, unlawful, centralized, late, additional, important, indian, large, indian, armed, associate, militant, detonate, main, jammu, legislative, terrorist, armed, new, terrorist, terrorist, pakistan, separatist, january, armed, american, ongoing, indian, american, indian, cooperative, bilateral, extensive, indian, joint, january, new, close, nepal, strong, global, military, nepal, indigenous, indigenous, maoist, significant, nepalese, prime, sher, round, significant, social, economic, social, simultaneous, nationwide, terrorist, official, commercial, future, dim, terrorist, tactic, unarmed, civilian, particular, international, international, local, nepalese, investigate, motive, small, bharatpur, january, slight, similar, late, pakistan, united, unprecedented, military, pakistan, united, afghanistan, united, wide, joint, islamabad, terrorist, relate, pakistan, madrassas, religious, educational, new, terrorist, anti, pakistan, extremist, january, pakistani, jaish, designate, foreign, terrorist, religious, militant, pakistani, militant, designate, foreign, terrorist, musharraf, tough, local, militant, 38-year, old, chief, asia, january, islamic, radical, numerous, unknown, pakistani, official, ahmed, omar, british, indian, nepal, indian, united, designate, foreign, terrorist, criminal, barbaric, united, united, pakistani, nationalist, true, pakistani, french, pregnant, terrorist, current, terrorist, appropriate, military, financial, central, terrorist, certain, terrorist, promulgate, colombo, domestic, extra, vulnerable, explosive, domestic, early, unilateral, late, high, civilian, military, large, colocate, military, international, severe, civilian, implicate, parliamentary, terrorist, unilateral, norwegian, february, formal, significant, january, civilian, military, unknown, captive, united, direct, hopeful, ruthless, violent, past, political, united, foreign, terrorist, global, commercial, key, foreign, small, disadvantaged, consular, foreign, civil, foreign, international, global, diplomatic, overseas, parental, parental, foreign, archive, subject, external, general, white, public, portal, external, endorsement, portable, high, archive, current\""
   ]
  },
  {
   "cell_type": "code",
   "execution_count": 161,
   "metadata": {},
   "outputs": [],
   "source": [
    "SA_2001_v = \"archived, contain, dipnote, travel, plans, defeating, oceans, trafficking, press, releases, releases, feeds, begin, report, start, reject, remain, friend, commit, include, focus, emanate, qaida, remove, restore, support, weaken, pervez, allow, help, prevent, continue, identify, take, include, colocated, continue, bring, negotiate, continue, maintain, pose, call, end, include, qaida, include, want, qaida, take, train, conduct, punctuate, bring, qaida, serve, eliminate, qaida, represent, agree, end, promote, include, establish, promise, help, rebuild, fight, pledge, help, recover, take, operate, engage, remain, govern, recognize, united, link, engage, qaida, provide, defeat, provide, qaida, impose, provide, observe, taliban, reduce, restrict, include, ban, warn, remain, warn, choose, enduring, endorse, provide, staging, list, declare, ask, create, deploy, guard, follow, include, follow, kill, mohammed, lashkar, mohammed, operate, continued, kill, indicate, choose, continue, united, include, found, include, agree, pursue, enduring, agree, allow, target, united, remain, deuba, come, negotiate, agree, cease, walk, launch, declare, begin, expand, include, increase, mangalsen, killing, establish, identify, explode, set, bottling, provide, allow, identify, agree, institutionalize, create, freeze, announce, bring, serve, breeding, begin, upgrade, begin, work, crack, include, lt, mohammed, remain, oppose, implement, link, alleged, qaida, send, fate, kidnapping, locate, cooperate, learn, include, spend, kidnap, take, release, mohammed, say, threaten, engage, need, know, hurt, rid, say, identify, bring, make, read, kann, managing, bring, leave, make, face, need, maintain, declare, follow, exist, notify, strengthen, favor, continue, begin, resume, carry, kill, include, run, begin, elect, announce, continue, move, agree, attribute, repatriate, hold, hold, continue, continue, support, help, bring, negotiate, side, give, include, maintain, start, learn, ask, faq, controls, careers, fellows, usajobs, discover, visas, manage, require, enter, look\""
   ]
  },
  {
   "cell_type": "markdown",
   "metadata": {},
   "source": [
    "### 2001 East Asia country report"
   ]
  },
  {
   "cell_type": "code",
   "execution_count": 175,
   "metadata": {},
   "outputs": [
    {
     "name": "stderr",
     "output_type": "stream",
     "text": [
      "DEBUG:urllib3.connectionpool:Starting new HTTPS connection (1): 2009-2017.state.gov:443\n",
      "DEBUG:urllib3.connectionpool:https://2009-2017.state.gov:443 \"GET /j/ct/rls/crt/2001/html/10238.htm HTTP/1.1\" 200 19563\n"
     ]
    }
   ],
   "source": [
    "EA_2001_word = scrape_text(\"https://2009-2017.state.gov/j/ct/rls/crt/2001/html/10238.htm\")"
   ]
  },
  {
   "cell_type": "code",
   "execution_count": 176,
   "metadata": {},
   "outputs": [],
   "source": [
    "filtered_EA_2001 = nlp(convert_list_to_string([preprocess_token(token) for token in EA_2001_word if is_token_allowed(token)]))"
   ]
  },
  {
   "cell_type": "code",
   "execution_count": 181,
   "metadata": {},
   "outputs": [],
   "source": [
    "cat_words(filtered_EA_2001)"
   ]
  },
  {
   "cell_type": "code",
   "execution_count": 190,
   "metadata": {},
   "outputs": [],
   "source": [
    "EA_2001_n = \"east, overview, skip, content, header, view, content, information, release, january, note, content, site, update, link, function, link, internet, site, construe, view, website, date, information, header, googleoff, dos, seal, department, state, diplomacy, action, video, twitter, facebook, flickr, youtube, instagram, google+, tumblr, blog, rss, subscribe, toggle, menu, secretary, kerry, remarks, photos, biography, mission, statement, qddr, organization, chart, budget, department, state, state, rules, info, collection, partner, state, officials, list, bureaus, offices, groups, biographies, performance, budgets, agency, reports, government, initiative, fear, act, inspector, hotline, embassies, posts, service, association, arms, control, security, security, democracy, rights, growth, energy, environment, management, affairs, diplomacy, affairs, policy, issues, corruption, climate, environment, counterterrorism, counter, cyber, issues, isil, democracy, rights, affairs, trade, policy, energy, food, security, health, diplomacy, nonproliferation, refugees, persons, women, issues, countries, regions, list, countries, areas, africa, sub, east, europe, eurasia, africa, hemisphere, america, caribbean, canada, organizations, press, briefings, press, schedule, secretary, kerry, media, engagement, rss, news, email, subscriptions, press, center, googleon, search, input, jump, section, breadcrumb, home, secretary, security, democracy, rights, bureau, counterterrorism, counter, extremism, releases, country, terrorism, patterns, terrorism, report, html, format, end, breadcrumb, east, overview, share, meta, start, patterns, terrorism, office, coordinator, counterterrorism, report, end, centerblock, start, wake, september, event, east, nation, condemnation, attack, support, war, terrorism, progress, counterterrorism, capability, apprehend, cell, achievement, draw, headline, law, enforcement, jurisdiction, hong, kong, example, framework, group, resource, base, restrict, activity, government, japan, coalition, terrorism, support, campaign, afghanistan, counterterrorism, experts, group, participate, counterterrorism, strategy, address, concern, financing, drug, trade, assistance, time, history, australia, invoke, treaty, support, states, australia, sign, convention, suppression, terrorist, week, september, australia, counterterrorism, legislation, implement, resolution, terrorism, step, freeze, asset, list, order, relief, commit, troop, equipment, fight, operation, freedom, oef, send, troop, afghanistan, support, oef, resolution, order, terrorist, regulation, legislation, implement, resolution, deploy, c-130, aircraft, afghanistan, relief, operation, president, arroyo, leadership, ally, war, terrorism, arroyo, leader, voice, support, states, september, attack, clearance, basis, clark, subic, transit, maintenance, asset, operation, freedom, intelligence, cooperation, logistic, support, personnel, supply, medicine, philippine, troop, operation, approval, arroyo, spearhead, effort, forge, counterterrorism, approach, korea, support, war, terrorism, pledge, cooperation, assistance, ally, spirit, republic, korea, states, defense, treaty, end, korea, contribute, air, sea, transport, craft, unit, support, action, afghanistan, relief, reconstruction, fund, help, country, korea, legislation, institution, combat, support, terrorism, creation, intelligence, unit, contribution, president, nations, assembly, period, china, victim, terrorism, support, effort, terrorism, nations, region, material, support, authority, beijing, request, assistance, counterterrorism, dialogue, level, year, end, traffic, drug, person, weapon, crime, corruption, problem, avenue, operation, terrorist, exploit, southeast, organization, cell, link, year, singapore, malaysia, group, activity, movement, connection, region, plan, attack, singapore, detain, jemaah, islamiah, member, december, plot, bomb, embassies, singapore, case, study, malaysia, arrest, dozen, suspect, investigation, broaden, region, end, year, outline, network, nature, jemaah, islamiah, network, country, east, counterterrorism, mechanism, bode, region, effort, forum, counterterrorism, agenda, east, nation, violence, dispute, sayyaf, group, asg, repeat, type, philippines, asg, citizen, philippines, citizen, murder, citizen, filipino, hostage, year, china, thailand, number, bombing, year, authority, work, country, arrest, north, korea, state, sponsor, terrorism, state, sponsorship, section, report, burma, burma, issue, letter, nations, november, outline, commitment, counterterrorism, government, state, opposition, terrorism, government, official, country, safehaven, location, planning, execution, act, letter, country, convention, suppression, terrorism, november, government, bank, institution, name, organization, list, security, council, resolution, letter, declare, government, burma, investigation, terrorism, justice, accordance, law, land, burma, counter, terrorism, convention, sign, drug, trafficking, crime, challenge, burma, opportunity, exploit, china, official, september, attack, china, cooperation, community, terrorism, basis, charter, law, china, vote, support, security, council, resolution, attack, vote, resolution, mark, time, vote, favor, use, force, china, approach, terrorism, problem, coalition, campaign, afghanistan, influence, urge, effort, taliban, china, states, counterterrorism, dialogue, september, follow, discussion, ambassador, taylor, trip, december, beijing, september, attack, urgency, discussion, hold, washington, dc, kong, government, china, establishment, attache, beijing, china, counterterrorism, work, group, financing, law, enforcement, wake, attack, authority, number, measure, china, counterterrorism, posture, security, increase, vigilance, china, group, conduct, attack, year, increase, readiness, level, police, unit, region, china, army, unit, border, afghanistan, block, terrorist, flee, afghanistan, preparedness, request, states, china, conduct, search, bank, evidence, financing, mechanism, number, bombing, attack, china, bomb, attack, crime, china, scarcity, firearm, availability, construction, project, china, concern, extremist, region, rule, training, equipment, inspiration, extremist, afghanistan, press, report, claim, uighurs, train, fight, group, union, group, concern, east, turkestan, party, etip, east, turkestan, liberation, organization, turkestan, azatlik, acronym, etip, goal, state, turkestan, advocate, struggle, member, bomb, plot, uighurs, fight, report, train, return, china, crackdown, uighur, concern, abuse, states, counterterrorism, campaign, substitute, address, aspiration, indonesia, attack, president, megawati, support, war, terrorism, promise, counterterrorism, resolution, government, action, afghanistan, government, action, support, effort, effort, counterterrorism, regime, acknowledge, terrorism, problem, home, indonesia, step, operation, border, police, interview, leader, majelis, mujahadeen, connection, jemaah, islamiah, kumpulan, mujahidin, malaysia, kmm, police, arrest, wound, attempt, detonate, bomb, jakarta, mall, malaysians, conjunction, bombing, atrium, shopping, mall, addition, issue, block, order, terrorist, security, council, resolution, bank, compliance, reporting, requirement, end, year, states, relate, jemaah, group, attack, embassy, citizen, foreigner, country, response, lead, campaign, afghanistan, police, presence, demonstrator, attack, compound, october, group, islam, defenders, citizen, country, press, account, report, bombing, incident, archipelago, blast, june, december, facility, aceh, region, kidnap, indonesians, year, papuan, independence, activist, progress, apprehending, bombing, arrest, person, jihad, group, concern, year, end, source, instability, violence, christians, provinces, sulawesi, village, raze, november, december, lead, security, response, indonesia, australia, sign, memorandum, understanding, counterterrorism, cooperation, way, action, terrorism, southeast, japan, speed, respond, september, attack, states, minister, koizumi, campaign, legislation, japan, self, defense, forces, area, support, campaign, afghanistan, government, asset, maintain, watch, list, group, government, sign, terrorism, convention, legislation, treaty, japan, convention, suppression, terrorism, laos, government, state, condemn, form, terrorism, war, terrorism, bank, laos, issue, order, freeze, asset, bank, locate, asset, laos, convention, terrorism, government, commentary, lead, war, terrorism, malaysia, minister, condemn, september, attack, visit, embassy, sign, condolence, book, solidarity, states, terrorism, government, law, enforcement, intelligence, effort, stride, counterterrorism, measure, counterterrorism, september, increase, security, surround, embassy, residence, government, october, reservation, action, afghanistan, malaysia, incident, terrorism, police, authority, series, arrest, person, extremist, group, link, december, member, kumpulan, mujahidin, malaysia, kmm, group, wing, kmm, arrest, activity, deem, malaysia, security, kmm, detainee, hold, range, charge, plan, wage, jihad, carry, bombing, robbery, murder, state, assemblyman, plan, attack, foreigner, citizen, arrest, militant, training, leader, kmm, jemaah, islamiah, jemaah, islamiah, allege, tie, kmm, organization, indonesia, singapore, philippines, police, jemaah, islamiah, connection, september, suspect, moussaoui, member, islamist, sect, july, follow, group, raid, armory, malaysia, treason, bid, overthrow, government, state, member, life, sentence, sentence, death, member, charge, wage, war, king, sentence, year, prison, sentence, year, appeal, member, detention, security, act, president, arroyo, southeast, supporter, counterterrorism, effort, assistance, coalition, force, blanket, overflight, clearance, aircraft, operation, freedom, marathon, session, philippine, congress, money, laundering, act, september, legislation, opposition, pass, congress, step, support, effort, asset, world, addition, philippine, training, assistance, october, terrorist, sayyaf, group, profile, kidnapping, year, group, philippines, attack, target, organization, government, citizen, filipinos, palawan, island, philippines, hostage, kidnap, ransom, hostage, guillermo, sobero, citizen, murder, citizen, year, end, pentagon, gang, kidnap, ransom, group, kidnap, murder, terrorism, exclusion, list, tel, december, peace, talk, party, people, army, cpp, npa, break, june, wing, claim, responsibility, assassination, june, congressman, cagayan, alex, boncayao, brigade, abb)—a, faction, security, force, year, motivation, terrorist, activity, philippines, case, ransom, philippines, insurgent, seek, extort, fund, business, area, reprisal, operation, money, singapore, plot, thwart, plot, embassy, navy, facility, target, plan, attack, singapore, authority, island, citizen, singapore, nation, law, matter, size, people, information, home, minister, wong, kan, information, year, september, attack, world, trade, center, pentagon, singapore, government, cell, border, december, singapore, authority, detain, suspect, release, member, clandestine, jemaah, group, suspect, hold, custody, security, act, year, detention, trial, decision, trial, investigation, photograph, embassy, time, procurement, ton, material, series, truck, bomb, ton, bombmake, chemical, plot, time, ton, effect, city, bombing, level, building, target, embassy, surveillance, conduct, embassy, company, embassy, singapore, role, disruption, network, singapore, government, contact, embassy, december, embassy, target, plan, attack, embassy, personnel, measure, ambassador, lavin, day, embassy, task, force, target, attack, leave, miss, day, security, embassy, knowledge, monitor, embassy, arrest, suspect, dedication, embassy, personnel, professionalism, confidentiality, target, singapore, authority, track, plotter, discovery, mile, attack, plan, stage, incriminate, videotape, rubble, leader, home, afghanistan, surveillance, footage, target, subway, station, personnel, note, accompany, tape, detail, strike, singaporean, watch, tape, television, shock, voice, comment, bomb, plant, damage, passer, accord, singapore, government, jemaah, cell, malaysia, lead, resident, nurjaman, riduan, successor, group, leader, arrest, authority, june, malaysia, arrest, dozen, suspect, terrorist, authority, question, leader, cell, malaysia, admit, association, fathur, rohman, ghozi, arrest, singapore, surveillance, videotape, note, afghanistan, link, custody, finding, show, link, jemaah, group, detain, leader, afghanistan, kan, minister, home, affairs, accord, singapore, government, arrest, train, camp, afghanistan, camp, instruction, ak-47s, mortar, evidence, terrorist, target, singapore, security, official, terrorism, investigation, accord, defense, secretary, donald, h., rumsfeld, singapore, government, act, dispatch, plot, manner, result, arrest, singapore, philippines, government, discover, plot, country, result, arrest, link, detain, singapore, ton, ghozi, arrest, bangkok, thailand, group, bombing, material, discovery, plot, interest, singapore, arrest, suspect, tie, country, underscore, cooperation, war, terror, value, intelligence, show, discovery, plot, country, authority, matrix, cell, government, work, cooperation, government, singapore, nations, coalition, terrorism, address, assembly, october, struggle, world, terrorism, root, problem, network, society, risk, counter, terrorism, endeavor, singapore, singapore, minister, goh, september, attack, york, city, washington, support, antiterrorism, effort, war, effort, afghanistan, fund, material, relief, government, legislation, enable, comply, security, council, resolutions, uncover, singapore, experience, incident, terrorism, police, december, disrupt, link, organization, call, jemaah, member, plot, attack, interest, singapore, detain, investigation, end, account, jemaah, case, transportation, hub, singapore, play, role, effort, terrorism, effort, year, end, improvement, security, area, collection, datum, cargo, pass, singapore, port, taiwan, taiwan, president, chen, occasion, attack, taiwan, support, spirit, determination, antiterrorist, campaign, measure, taiwan, announce, un, counterterrorism, convention, member, nations, taiwan, law, money, case, procedure, law, aftermath, september, thailand, minister, thaksin, condemn, september, attack, country, states, coalition, combat, terrorism, government, pledge, cooperation, counterterrorism, agency, commit, sign, counterterrorism, convention, reconstruction, afghanistan, thailand, action, support, war, terrorism, authority, transaction, cover, resolution, freeze, asset, effort, terrorism, crime, immigration, december, announce, initiative, expand, list, country, citizen, visa, thailand, thailand, offer, dispatch, construction, battalion, team, mandate, operation, afghanistan, thailand, police, step, security, building, september, attack, authority, suspect, organize, crime, group, province, thailand, scale, attack, kill, child, wound, dozen, person, truck, bomb, hotel, thailand, november, december, series, attack, police, thailand, kill, police, officer, defense, volunteer, june, authority, avert, attempt, bombing, embassy, bangkok, disarm, device, male, custody, possession, conspiracy, explosion, connection, incident, release, police, evidence, crime, bangkok, december, rocket, propel, grenade, fire, multistory, building, housing, ticketing, office, airline, el, police, carrier, target, casualty, centerblock, end, prn, prn, end, section, highlights, googleoff, business, business, support, questions, office, partnerships, business, affairs, office, officers, service, posts, trade, policy, programs, defense, trade, business, utilization, recovery, reinvestment, act, service, contract, inventory, program, service, officer, service, officer, service, specialist, organizations, student, programs, work, america, education, exchanges, diplomacy, youth, issues, history, office, schools, exchange, visitor, program, fulbright, program, student, career, programs, youth, exchange, programs, diplomacy, center, intercountry, adoption, child, abduction, travel, passports, travel, information, emergency, services, intercountry, adoption, child, abduction, diem, rates, contact, faq, search, share, index, accessibility, statement, copyright, information, link, policy, foia, fear, act, privacy, policy, office, inspector, businessusa, house, usa.gov, embassy, office, website, management, bureau, affairs, site, information, state, department, link, internet, site, construe, view, privacy, policy, contain, note, document, document, format, pdf, adobe, acrobat, reader, view, download, adobe, acrobat, reader, googleon, department, state, information, visit\""
   ]
  },
  {
   "cell_type": "code",
   "execution_count": 191,
   "metadata": {},
   "outputs": [],
   "source": [
    "EA_2001_adj = \"asia, main, archive, online, january, archive, external, endorsement, current, /archive, senior, alphabetical, advisory, financial, open, general, american, foreign, international, civilian, human, economic, political, public, public, anti, violent, extremism, human, economic, arctic, sahara, asia, pacific, east, northern, middle, east, south, central, asia, western, latin, international, daily, public, international, foreign, civilian, human, violent, global, asia, global, meta, asian, universal, substantial, direct, significant, indigenous, terrorist, independent, financial, regulatory, legal, terrorist, terrorist, large, global, japan, active, g-8, international, terrorist, mutual, legal, anzus, general, military, united, quick, new, executive, afghan, new, zealand, executive, new, new, humanitarian, macapagal, staunch, asian, macapagal, asean, united, terrorist, broad, overflight, military, medical, medical, international, dependent, philippine, congressional, macapagal, asean, regional, south, unconditional, necessary, close, mutual, south, medical, military, humanitarian, south, domestic, financial, financial, important, diplomatic, general, critical, valuable, diplomatic, south, central, asian, financial, afghan, interim, senior, operational, official, potential, asian, terrorist, uncover, late, major, disrupt, terrorist, large, international, terrorist, multinational, illustrate, asia, crucial, effective, regional, asean, regional, extensive, asian, terrorist, domestic, political, endemic, southern, indonesia, islamic, extremist, terrorist, financial, terrorist, terrorist, criminal, terrorist, organized, additional, present, terrorist, chinese, international, international, international, constructive, south, central, asia, multinational, united, late, hong, concrete, fbi, legal, chinese, domestic, western, separatist, violent, recent, military, chinese, regular, overall, domestic, united, chinese, terrorist, separatist, common, violent, wide, explosive, islamic, uighur, autonomous, chinese, taliban, islamic, soviet, chechnya, particular, islamic, early, independent, eastern, armed, afghanistan, aware, credible, uighur, previous, chinese, ethnic, possible, human, right, united, clear, legitimate, social, economic, 11th, public, global, indonesian, unilateral, military, limited, international, antiterrorist, legal, regulatory, international, standard, slow, terrorist, baasyir, indonesia, possible, malaysian, august, indonesia, far, indonesia, pende, united, concerned, terrorist, indonesia, radical, indonesian, islamic, expel, strong, indonesian, militant, vocal, indonesian, islamic, major, own, exxonmobil, unidentified, gunman, prominent, acehnese, academic, official, little, responsible, laskar, indonesia, large, radical, domestic, communal, central, sulawesi, major, indonesian, military, early, concrete, asia, japan, unprecedented, terrorist, united, prime, aggressive, new, substantial, rear, suspect, terrorist, individual, international, sole, international, laotian, global, terrorist, instruct, slow, international, public, supportive, malaysian, prime, unjustified, express, united, international, malaysian, international, financial, domestic, diplomatic, strong, military, international, malaysian, associate, regional, islamic, close, domestic, national, wide, weaponry, military, afghanistan, key, involved, islamic, extremist, malaysian, terrorist, malaysian, military, northern, guilty, islamic, reduced, additional, internal, philippine, macapagal, asia, staunch, international, medical, right, vocal, philippine, international, terrorist, military, offensive, high, small, radical, foreign, domestic, designate, foreign, terrorist, redesignate, kidnap, southern, original, captive, responsible, chinese, italian, filipino, national, communist, new, april, military, philippine, npa, intermittent, philippine, political, criminal, relate, problematic, numerous, southern, separatist, communist, terrorist, complex, contrive, terrorist, inhabitant, small, small, seng, specific, possible, terrorist, islamiyah, islamic, internal, complete, terrorist, explosive, devastating, large, vicious, terrorist, main, key, terrorist, terrorist, preventative, frank, massive, terrorist, unscheduled, operational, terrorist, subsequent, terrorist, utmost, terrorist, terrorist, important, light, specific, military, handwritten, arabic, cold, terrorist, accent, best, maximum, islamiyah, indonesia, malaysian, permanent, hambali, indonesian, national, malaysian, late, early, indonesian, suspect, terrorist, january, handwritten, clear, suspect, terrorist, new, direct, islamiyah, wong, seng, individual, military, tactic, singaporean, alert, terrorist, effective, additional, terrorist, suspect, terrorist, philippine, official, explosive, arsenal, terrorist, foreign, global, demonstrate, accurate, terrorist, entire, terrorist, crucial, terrorist, large, permanent, representative, united, global, general, uphill, safe, deep, terrorist, sophisticated, complex, global, global, prime, new, supportive, afghanistan, humanitarian, omnibus, mandatory, instrumental, international, terrorist, southeast, asia, domestic, international, official, extremist, islamiyah, british, australian, israeli, individual, detailed, islamiyah, regional, financial, crucial, international, particular, september, effective, substantive, united, criminal, prime, terrorist, united, international, thai, participate, concrete, financial, investigate, financial, taliban, official, obtain, arrive, medical, western, own, thai, muslim, muslim, southern, responsible, small, early, april, southern, southern, vietnamese, explosive, detonate, ethnic, vietnamese, illegal, explosive, insufficient, central, early, israeli, israeli, global, commercial, key, foreign, small, disadvantaged, consular, foreign, civil, foreign, international, global, diplomatic, overseas, parental, parental, foreign, archive, subject, external, general, white, public, portal, external, endorsement, portable, high, archive, current\""
   ]
  },
  {
   "cell_type": "code",
   "execution_count": 192,
   "metadata": {},
   "outputs": [],
   "source": [
    "EA_2001_v = \"archived, contain, dipnote, travel, plans, defeating, oceans, trafficking, press, releases, releases, feeds, begin, report, provide, make, build, shut, qaida, link, state, strengthen, cut, commit, include, provide, develop, provide, financing, prepare, take, contribute, enduring, support, financing, philippines, emerge, wake, offer, use, include, staging, enduring, enhance, include, give, united, provide, rebuild, strengthen, include, united, provide, united, include, agree, establish, remain, organize, remain, qaida, cross, conduct, discover, target, reveal, need, undertake, suffer, relate, philippines, kidnapping, kidnap, resort, remain, end, suffer, believe, discuss, united, declare, allow, indicate, sign, financing, provide, cooperate, bring, sign, consider, related, condemn, announce, strengthen, fight, authorize, take, support, support, qaida, begin, add, beijing, result, encouraging, approve, agree, create, undertake, improve, include, uighur, include, bolster, strengthen, attack, relate, occur, express, operate, oppose, receive, qaida, include, sharki, know, found, establish, involve, find, qaida, qaida, raise, serve, september, express, implement, say, oppose, take, bring, take, bakar, shopping, arrest, require, freezing, remain, qaida, kmm, operate, threaten, prevent, pembela, threaten, include, assassinate, include, lead, prosecute, have, remain, continue, muslims, maluku, continue, prepare, spread, act, lead, result, allow, provide, freeze, contain, relate, move, approve, ratify, financing, support, seize, ratify, mahathir, fight, cooperate, implement, pursue, express, suffer, qaida, extremist, threaten, include, possess, include, undergo, investigate, zacharias, ma'unah, detain, find, establish, receive, remain, plead, prepare, reduce, remain, philippines, offer, landing, involve, enduring, pass, overcome, take, freeze, intensify, involve, continue, resort, escape, include, remain, add, philippines, begin, npa, engage, fighting, distinguish, continue, kidnapping, islamist, operating, conduct, pay, mean, discover, thwart, include, know, singapore, talk, say, happen, get, follow, begin, investigate, allow, begin, remain, write, want, singapore, allied, play, warn, enable, singapore, explain, know, take, maintain, attribute, conduct, maintain, know, arrest, shed, find, qaida, show, include, singapore, provide, blooded, hear, bakar, philippines, find, indicate, qaida, qaida, say, qaida, provide, use, begin, remain, continue, deal, prevent, seize, fly, believe, need, lead, apprehending, speak, realize, build, condemn, affirm, singapore, contribute, pass, intend, disrupt, operate, qaida, continue, arrest, study, shipping, continue, include, detailed, commit, include, adopt, abide, strengthen, laundering, say, stand, offer, take, thai, begin, qaida, prevent, require, serve, follow, include, bombing, unexploded, find, coordinate, checkpoint, find, fail, take, charge, determine, link, doubt, intend, start, learn, ask, faq, controls, careers, fellows, usajobs, discover, visas, manage, require, enter, look\""
   ]
  },
  {
   "cell_type": "markdown",
   "metadata": {},
   "source": [
    "### Categorizing words to Adj and Verb __Africa 2001"
   ]
  },
  {
   "cell_type": "code",
   "execution_count": 162,
   "metadata": {},
   "outputs": [],
   "source": [
    "n = []\n",
    "adj = []\n",
    "verb = []\n",
    "for token in filtered_tokens:\n",
    "    if token.pos_ == 'NOUN':\n",
    "        n.append(token)\n",
    "    if token.pos_ == 'ADJ':\n",
    "        adj.append(token)\n",
    "    if token.pos_ == \"VERB\":\n",
    "        verb.append(token)"
   ]
  },
  {
   "cell_type": "code",
   "execution_count": 163,
   "metadata": {},
   "outputs": [],
   "source": [
    "Africa_2001_adjectives = \"main, archive, online, january, archive, external, endorsement, current, /archive, senior, alphabetical, advisory, financial, open, general, american, foreign, international, civilian, human, economic, political, public, public, anti, violent, extremism, human, economic, arctic, sahara, asia, pacific, east, northern, middle, east, south, central, asia, western, latin, international, daily, public, international, foreign, civilian, human, violent, global, global, meta, african, express, united, deep, oau, entire, universal, united, saharan, african, bilateral, global, multilateral, african, southern, african, international, global, new, african, international, persistent, civilian, terrorist, internal, civil, regional, african, rebel, political, social, economic, terrorist, tactic, democratic, international, terrorist, islamic, lebanese, hizballah, permissive, porous, financial, wide, able, weak, unable, terrorist, terrorist, illicit, terrorist, united, late, national, regional, international, technical, financial, legal, military, african, protract, civil, national, total, responsible, brutal, civilian, unidentified, unita, august, later, armed, rebel, suspect, kidnap, civil, namibia, namibian, namibia, rebel, earlier, armed, unita, terrorist, medium, revolutionary, united, official, terrorist, personal, diary, subsequent, radical, islamic, investigate, united, international, strong, consistent, global, united, close, financial, suspect, terrorist, djiboutian, executive, financial, strong, ethiopian, immediate, vocal, terrorist, financial, potential, terrorist, august, key, new, financial, united, current, regional, national, new, military, diplomatic, economic, african, ecowas, nigerian, anti, economic, financial, explicit, criminal, large, muslim, islamic, senegal, senegal, african, african, african, african, senegal, central, regional, terrorist, senegal, regional, senegal, future, central, potential, terrorist, civil, able, entire, poor, nonexistent, financial, major, indigenous, dedicated, islamic, terrorist, active, medical, obvious, long, united, close, potential, terrorist, terrorist, peaceful, long, south, unreserved, terrorist, united, lead, diplomatic, south, african, south, urban, uganda, september, northern, uganda, democratic, western, military, terrorist, foreign, national, public, ambush, catholic, global, commercial, key, foreign, small, disadvantaged, consular, foreign, civil, foreign, international, global, diplomatic, overseas, parental, parental, foreign, archive, subject, external, general, white, public, portal, external, endorsement, portable, high, archive, current\""
   ]
  },
  {
   "cell_type": "code",
   "execution_count": 164,
   "metadata": {},
   "outputs": [],
   "source": [
    "Africa_2001_verbs = \"archived, contain, dipnote, travel, plans, defeating, oceans, trafficking, press, releases, releases, feeds, begin, report, start, affect, usa, sub, united, states, commit, fight, produce, increase, help, counter, use, stem, employ, include, include, qaida, continue, expand, fail, indicate, sudan, discuss, participate, include, cooperate, do, believe, suspect, kill, kill, neighboring, operate, pursue, enter, take, hold, means, qaida, qaida, qaida, keep, qaida, include, continue, cooperate, develop, enter, pledge, united, operate, commit, cooperate, counterterrorist, ethiopia, shut, operate, continue, cooperate, examine, include, suffer, qaida, remain, implement, impose, cooperate, lead, financing, support, lead, legislation—, commit, safehaven, propose, wade, energize, join, fight, dakar, create, united, ratify, remain, represent, safehaven, fail, govern, monitor, fight, ittihad, create, carry, qaida, remain, kill, sans, frontieres, kill, wound, take, need, give, take, bring, fail, find, express, offer, fight, continue, condemn, allied, continue, aim, injure, explode, kill, suspect, start, learn, ask, faq, controls, careers, fellows, usajobs, discover, visas, manage, require, enter, look\""
   ]
  },
  {
   "cell_type": "code",
   "execution_count": 165,
   "metadata": {},
   "outputs": [],
   "source": [
    "Africa_2001_nouns = \"africa, overview, skip, content, header, view, content, information, release, january, note, content, site, update, link, function, link, internet, site, construe, view, website, date, information, header, googleoff, dos, seal, department, state, diplomacy, action, video, twitter, facebook, flickr, youtube, instagram, google+, tumblr, blog, rss, subscribe, toggle, menu, secretary, kerry, remarks, photos, biography, mission, statement, qddr, organization, chart, budget, department, state, state, rules, info, collection, partner, state, officials, list, bureaus, offices, groups, biographies, performance, budgets, agency, reports, government, initiative, fear, act, inspector, hotline, embassies, posts, service, association, arms, control, security, security, democracy, rights, growth, energy, environment, management, affairs, diplomacy, affairs, policy, issues, corruption, climate, environment, counterterrorism, counter, cyber, issues, isil, democracy, rights, affairs, trade, policy, energy, food, security, health, diplomacy, nonproliferation, refugees, persons, women, issues, countries, regions, list, countries, areas, africa, sub, east, europe, eurasia, africa, hemisphere, america, caribbean, canada, organizations, press, briefings, press, schedule, secretary, kerry, media, engagement, rss, news, email, subscriptions, press, center, googleon, search, input, jump, section, breadcrumb, home, secretary, security, democracy, rights, bureau, counterterrorism, counter, extremism, releases, country, terrorism, patterns, terrorism, report, html, format, end, breadcrumb, africa, overview, share, meta, start, patterns, terrorism, office, coordinator, counterterrorism, report, end, centerblock, organization, unity, government, people, states, america, solidarity, condolence, people, africa, tragedy, people, humanity, oau, communique, september, condemnation, september, attack, states, government, government, pledge, support, war, terrorism, addition, cooperation, coalition, organization, organization, unity, development, community, terrorism, shock, produce, september, attack, renew, cooperation, combat, terrorism, readiness, leader, address, problem, terrorism, africa, cooperation, threat, terrorism, instrument, violence, coercion, attack, africa, unrest, spillover, war, movement, opposition, group, employ, terrorist, tactic, pursuit, goal, country, insurgent, group, attack, civilian, republic, congo, liberia, sierra, leone, organization, tie, presence, africa, exploit, africa, operating, environment, border, conflict, system, availability, weapon, strengthen, network, group, flourish, state, government, monitor, activity, supporter, border, press, report, trade, conflict, diamond, launder, money, finance, operation, state, sponsor, terrorism, state, sponsorship, section, report, angola, angola, stride, combat, terrorism, september, attack, states, november, assembly, pass, resolution, call, angola, effort, combat, terrorism, share, intelligence, expertise, information, issue, president, santos, action, support, organization, unity, resolution, terrorism, decade, angola, plague, war, union, independence, angola, unita, angolan, government, unita, attack, target, rebel, ambush, train, kill, person, injure, month, man, fire, missile, pass, bus, wound, unita, attack, farm, person, wound, violence, angolan, war, spill, angolan, government, invitation, government, border, clash, result, attack, attack, village, kill, person, wound, year, man, village, abduct, person, angola, hostage, april, death, jonas, savimbi, leader, sign, cease, fire, agreement, government, angola, alternate, funding, diamond, tanzanite, report, claim, network, dollar, diamond, mine, rebel, sierra, leone, trade, launder, money, ruf, allege, sell, dollar, diamond, usama, bin, ladin, network, allegation, link, sale, tanzanite, financing, press, report, claim, secretary, bin, ladin, detail, use, tanzanite, help, finance, operation, year, claim, group, lebanon, base, hizballah, transfer, dollar, congolese, diamond, sale, organization, home, claim, government, nations, diamond, produce, country, diamond, import, country, certification, system, diamond, prevent, conflict, diamond, trading, system, djibouti, djibouti, support, lead, coalition, war, terrorism, djibouti, host, coalition, force, france, germany, kingdom, states, djibouti, network, funnel, fund, operation, issue, order, country, measure, ethiopia, supporter, campaign, terror, response, follow, september, attack, ethiopia, network, territory, ethiopia, activity, region, somalia, kenya, kenya, attack, embassy, nairobi, kenya, ally, region, measure, asset, freeze, control, offer, states, combat, terrorism, effort, reconciliation, somalia, kenya, party, antiterrorism, convention, signatory, convention, suppression, terrorism, nigeria, nigeria, antiterrorism, effort, world, action, afghanistan, nigeria, effort, community, west, state, battle, terrorism, government, draft, terrorism, crimes, commission, act, contain, sanction, terrorism, financing, government, nigeria, prevent, territory, home, africa, population, extremist, leader, response, attack, september, president, abdoulaye, wade, pact, terrorism, president, stress, issue, continent, leader, day, conference, dakar, october, country, organization, unity, union, bank, bank, base, modify, regulation, restrict, funding, counterterrorism, intelligence, center, asset, security, intelligence, service, assistance, states, plan, convention, terrorism, somalia, somalia, nation, government, breeding, ground, network, war, clan, conflict, poverty, combine, turn, somalia, state, group, country, law, enforcement, inability, sector, faction, somalia, pledge, terrorism, group, islami, state, somalia, act, ethiopia, tie, aiai, part, somalia, gunman, mogadishu, attack, world, food, program, convoy, person, wound, march, extremist, attack, medecin, charity, facility, person, hostage, hostage, release, cooperation, somalia, neighbor, horn, africa, border, share, somalia, djibouti, ethiopia, kenya, country, cooperation, states, step, port, entry, deny, use, banking, system, transfer, link, asset, reconciliation, term, stability, remove, state, condition, somalia, africa, south, africa, condemnation, september, attack, states, government, support, effort, terrorism, africa, support, organization, unity, counterterrorism, resolution, africa, experience, incident, terrorism, president, yoweri, museveni, attack, call, world, act, terrorism, insurgent, group, lord, resistance, army, forces, uganda, operation, undermine, kampala, government, attack, june, bomb, area, kampala, wound, person, relief, services, vehicle, september, kill, person, wound, centerblock, end, prn, prn, end, section, highlights, googleoff, business, business, support, questions, office, partnerships, business, affairs, office, officers, service, posts, trade, policy, programs, defense, trade, business, utilization, recovery, reinvestment, act, service, contract, inventory, program, service, officer, service, officer, service, specialist, organizations, student, programs, work, america, education, exchanges, diplomacy, youth, issues, history, office, schools, exchange, visitor, program, fulbright, program, student, career, programs, youth, exchange, programs, diplomacy, center, intercountry, adoption, child, abduction, travel, passports, travel, information, emergency, services, intercountry, adoption, child, abduction, diem, rates, contact, faq, search, share, index, accessibility, statement, copyright, information, link, policy, foia, fear, act, privacy, policy, office, inspector, businessusa, house, usa.gov, embassy, office, website, management, bureau, affairs, site, information, state, department, link, internet, site, construe, view, privacy, policy, contain, note, document, document, format, pdf, adobe, acrobat, reader, view, download, adobe, acrobat, reader, googleon, department, state, information, visit, www.state.gov\""
   ]
  },
  {
   "cell_type": "markdown",
   "metadata": {},
   "source": [
    "### Creating Interactive Wordcloud"
   ]
  },
  {
   "cell_type": "code",
   "execution_count": 200,
   "metadata": {},
   "outputs": [],
   "source": [
    "#Interaction Libraries\n",
    "import ipywidgets as wg\n",
    "from ipywidgets import interact, interact_manual\n",
    "\n",
    "#Create Widgets\n",
    "year = wg.Dropdown(\n",
    "    options=['2001', '2002', '2003'],\n",
    "    description='Year:',\n",
    "    disabled=False,\n",
    ")\n",
    "\n",
    "region = wg.Dropdown(\n",
    "    options=['Africa', 'South Asia', 'East Asia', 'Europe', 'Middle East', 'Latin America', 'North America', 'Western Hemisphere'],\n",
    "    description='Region:',\n",
    "    disabled=False,\n",
    ")\n",
    "\n",
    "wordtype = wg.Dropdown(\n",
    "    options=['noun', 'adjective', 'verb'],\n",
    "    description='Word Type:',\n",
    "    disabled=False,\n",
    ")\n"
   ]
  },
  {
   "cell_type": "markdown",
   "metadata": {},
   "source": [
    "### Automating Wordcloud Generation"
   ]
  },
  {
   "cell_type": "code",
   "execution_count": 201,
   "metadata": {},
   "outputs": [],
   "source": [
    "from IPython.display import display, Image"
   ]
  },
  {
   "cell_type": "code",
   "execution_count": 202,
   "metadata": {},
   "outputs": [],
   "source": [
    "output = wg.Output()\n",
    "\n",
    "def wordcloud_generator(word_type):\n",
    "    wordcloud = WordCloud(width=500, height=500, margin=0, max_font_size=50, max_words=100, background_color=\"white\").generate(word_type)\n",
    "\n",
    "    plt.imshow(wordcloud, interpolation='bilinear')\n",
    "    plt.axis(\"off\")\n",
    "    plt.margins(x=0, y=0)\n",
    "    plt.figure(figsize=(15,10))\n",
    "    plt.show()\n"
   ]
  },
  {
   "cell_type": "code",
   "execution_count": 205,
   "metadata": {},
   "outputs": [],
   "source": [
    "def common_filtering(years, regions, wordtypes):\n",
    "    output.clear_output()\n",
    "    with output:\n",
    "        if (years=='2001') & (regions=='Africa') & (wordtypes=='adjective'):\n",
    "            display(wordcloud_generator(Africa_2001_adjectives))\n",
    "        elif (years=='2001') & (regions=='Africa') & (wordtypes=='verb'):\n",
    "            display(wordcloud_generator(Africa_2001_verbs))\n",
    "        elif (years=='2001') & (regions=='Africa') & (wordtypes=='noun'):\n",
    "            display(wordcloud_generator(Africa_2001_nouns))\n",
    "            \n",
    "        elif (years=='2001') & (regions=='South Asia') & (wordtypes=='adjective'):\n",
    "            display(wordcloud_generator(SA_2001_adj))\n",
    "        elif (years=='2001') & (regions=='South Asia') & (wordtypes=='verb'):\n",
    "            display(wordcloud_generator(SA_2001_v))\n",
    "        elif (years=='2001') & (regions=='South Asia') & (wordtypes=='noun'):\n",
    "            display(wordcloud_generator(SA_2001_n))\n",
    "\n",
    "        elif (years=='2001') & (regions=='East Asia') & (wordtypes=='adjective'):\n",
    "            display(wordcloud_generator(EA_2001_adj))\n",
    "        elif (years=='2001') & (regions=='East Asia') & (wordtypes=='verb'):\n",
    "            display(wordcloud_generator(EA_2001_v))\n",
    "        elif (years=='2001') & (regions=='East Asia') & (wordtypes=='noun'):\n",
    "            display(wordcloud_generator(EA_2001_n))\n",
    "\n"
   ]
  },
  {
   "cell_type": "code",
   "execution_count": 207,
   "metadata": {},
   "outputs": [],
   "source": [
    "def dropdown_year_handler(change):\n",
    "    common_filtering(change.new, region.value, wordtype.value)\n",
    "\n",
    "def dropdown_region_handler(change):\n",
    "    common_filtering(year.value, change.new, wordtype.value)\n",
    "    \n",
    "def dropdown_wordtypes_handler(change):\n",
    "    common_filtering(year.value, region.value, change.new)\n",
    "    "
   ]
  },
  {
   "cell_type": "code",
   "execution_count": 208,
   "metadata": {},
   "outputs": [],
   "source": [
    "year.observe(dropdown_year_handler, \"value\")\n",
    "region.observe(dropdown_region_handler, \"value\")\n",
    "wordtype.observe(dropdown_wordtypes_handler, \"values\")"
   ]
  },
  {
   "cell_type": "code",
   "execution_count": 209,
   "metadata": {},
   "outputs": [
    {
     "data": {
      "application/vnd.jupyter.widget-view+json": {
       "model_id": "eb051c89541c41ebaa756eea1137d0e9",
       "version_major": 2,
       "version_minor": 0
      },
      "text/plain": [
       "Dropdown(description='Year:', options=('2001', '2002', '2003'), value='2001')"
      ]
     },
     "metadata": {},
     "output_type": "display_data"
    },
    {
     "data": {
      "application/vnd.jupyter.widget-view+json": {
       "model_id": "7c78ab9669f44b71b2d987559037c468",
       "version_major": 2,
       "version_minor": 0
      },
      "text/plain": [
       "Dropdown(description='Region:', options=('Africa', 'South Asia', 'East Asia', 'Europe', 'Middle East', 'Latin …"
      ]
     },
     "metadata": {},
     "output_type": "display_data"
    },
    {
     "data": {
      "application/vnd.jupyter.widget-view+json": {
       "model_id": "bbcfef4d9f2a4ac2bb8121acbf157cca",
       "version_major": 2,
       "version_minor": 0
      },
      "text/plain": [
       "Dropdown(description='Word Type:', options=('noun', 'adjective', 'verb'), value='noun')"
      ]
     },
     "metadata": {},
     "output_type": "display_data"
    }
   ],
   "source": [
    "display(year)\n",
    "display(region)\n",
    "display(wordtype)"
   ]
  },
  {
   "cell_type": "code",
   "execution_count": 210,
   "metadata": {},
   "outputs": [
    {
     "data": {
      "application/vnd.jupyter.widget-view+json": {
       "model_id": "11670f2c60284207a28da2791c3a24d4",
       "version_major": 2,
       "version_minor": 0
      },
      "text/plain": [
       "Output(outputs=({'output_type': 'display_data', 'data': {'text/plain': '<Figure size 432x288 with 1 Axes>', 'i…"
      ]
     },
     "metadata": {},
     "output_type": "display_data"
    }
   ],
   "source": [
    "display(output)"
   ]
  },
  {
   "cell_type": "code",
   "execution_count": null,
   "metadata": {},
   "outputs": [],
   "source": []
  }
 ],
 "metadata": {
  "kernelspec": {
   "display_name": "Python 3",
   "language": "python",
   "name": "python3"
  },
  "language_info": {
   "codemirror_mode": {
    "name": "ipython",
    "version": 3
   },
   "file_extension": ".py",
   "mimetype": "text/x-python",
   "name": "python",
   "nbconvert_exporter": "python",
   "pygments_lexer": "ipython3",
   "version": "3.7.6"
  }
 },
 "nbformat": 4,
 "nbformat_minor": 4
}
